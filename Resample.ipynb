{
 "cells": [
  {
   "cell_type": "code",
   "execution_count": 2,
   "id": "focused-geneva",
   "metadata": {},
   "outputs": [],
   "source": [
    "import numpy as np\n",
    "from scipy.io import wavfile\n",
    "from scipy import interpolate\n",
    "\n",
    "NEW_SAMPLERATE = 16000\n",
    "FILE = \"../medical_speech_transcription_and_intent/1249120_44246595_89466082\"\n",
    "\n",
    "old_samplerate, old_audio = wavfile.read(FILE+\".wav\")\n",
    "\n",
    "if old_samplerate != NEW_SAMPLERATE:\n",
    "    duration = old_audio.shape[0] / old_samplerate\n",
    "\n",
    "    time_old  = np.linspace(0, duration, old_audio.shape[0])\n",
    "    time_new  = np.linspace(0, duration, int(old_audio.shape[0] * NEW_SAMPLERATE / old_samplerate))\n",
    "\n",
    "    interpolator = interpolate.interp1d(time_old, old_audio.T)\n",
    "    new_audio = interpolator(time_new).T\n",
    "\n",
    "    wavfile.write(FILE+\"_out.wav\", NEW_SAMPLERATE, np.round(new_audio).astype(old_audio.dtype))\n"
   ]
  },
  {
   "cell_type": "code",
   "execution_count": null,
   "id": "adjustable-verse",
   "metadata": {},
   "outputs": [],
   "source": []
  }
 ],
 "metadata": {
  "kernelspec": {
   "display_name": "conda_pytorch_p36",
   "language": "python",
   "name": "conda_pytorch_p36"
  },
  "language_info": {
   "codemirror_mode": {
    "name": "ipython",
    "version": 3
   },
   "file_extension": ".py",
   "mimetype": "text/x-python",
   "name": "python",
   "nbconvert_exporter": "python",
   "pygments_lexer": "ipython3",
   "version": "3.6.13"
  }
 },
 "nbformat": 4,
 "nbformat_minor": 5
}
