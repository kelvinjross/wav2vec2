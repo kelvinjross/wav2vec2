{
 "cells": [
  {
   "cell_type": "markdown",
   "metadata": {},
   "source": [
    "# Librosa\n",
    "\n",
    "Initially from article https://pub.towardsai.net/speech-to-text-with-wav2vec-2-0-b21c1e1ad701\n",
    "\n",
    "Had trouble installing the librosa code on AWS so moved to here in case other environment accessed."
   ]
  },
  {
   "cell_type": "markdown",
   "metadata": {},
   "source": [
    "# Install sndfile\n",
    "Had issues installing use these steps."
   ]
  },
  {
   "cell_type": "code",
   "execution_count": 9,
   "metadata": {},
   "outputs": [],
   "source": [
    "!pip install -q librosa"
   ]
  },
  {
   "cell_type": "code",
   "execution_count": 13,
   "metadata": {},
   "outputs": [
    {
     "name": "stdout",
     "output_type": "stream",
     "text": [
      "NAME=\"Amazon Linux AMI\"\n",
      "VERSION=\"2018.03\"\n",
      "ID=\"amzn\"\n",
      "ID_LIKE=\"rhel fedora\"\n",
      "VERSION_ID=\"2018.03\"\n",
      "PRETTY_NAME=\"Amazon Linux AMI 2018.03\"\n",
      "ANSI_COLOR=\"0;33\"\n",
      "CPE_NAME=\"cpe:/o:amazon:linux:2018.03:ga\"\n",
      "HOME_URL=\"http://aws.amazon.com/amazon-linux-ami/\"\n"
     ]
    }
   ],
   "source": [
    "!cat /etc/os-release"
   ]
  },
  {
   "cell_type": "markdown",
   "metadata": {},
   "source": [
    "http://yuminstall.org/how-to-install-libsndfile-devel-1-0-25-10-el7-x86_64-on-centos7/\n",
    "\n",
    "\n",
    "wget http://mirror.centos.org/centos/7/os/x86_64/Packages/libsndfile-1.0.25-12.el7.x86_64.rpm\n",
    "\n"
   ]
  },
  {
   "cell_type": "code",
   "execution_count": 12,
   "metadata": {
    "scrolled": true
   },
   "outputs": [
    {
     "name": "stdout",
     "output_type": "stream",
     "text": [
      "Collecting sndfile\n",
      "  Using cached sndfile-0.2.0.tar.gz (4.3 kB)\n",
      "Requirement already satisfied: cffi>=1.0.0 in /home/ec2-user/anaconda3/envs/pytorch_p36/lib/python3.6/site-packages (from sndfile) (1.14.5)\n",
      "Requirement already satisfied: pycparser in /home/ec2-user/anaconda3/envs/pytorch_p36/lib/python3.6/site-packages (from cffi>=1.0.0->sndfile) (2.20)\n",
      "Building wheels for collected packages: sndfile\n",
      "  Building wheel for sndfile (setup.py) ... \u001b[?25lerror\n",
      "\u001b[31m  ERROR: Command errored out with exit status 1:\n",
      "   command: /home/ec2-user/anaconda3/envs/pytorch_p36/bin/python3.6 -u -c 'import sys, setuptools, tokenize; sys.argv[0] = '\"'\"'/tmp/pip-install-keg9a96w/sndfile_b09d70f9cea64c94ab71897ea65a9053/setup.py'\"'\"'; __file__='\"'\"'/tmp/pip-install-keg9a96w/sndfile_b09d70f9cea64c94ab71897ea65a9053/setup.py'\"'\"';f=getattr(tokenize, '\"'\"'open'\"'\"', open)(__file__);code=f.read().replace('\"'\"'\\r\\n'\"'\"', '\"'\"'\\n'\"'\"');f.close();exec(compile(code, __file__, '\"'\"'exec'\"'\"'))' bdist_wheel -d /tmp/pip-wheel-qtc_vioo\n",
      "       cwd: /tmp/pip-install-keg9a96w/sndfile_b09d70f9cea64c94ab71897ea65a9053/\n",
      "  Complete output (23 lines):\n",
      "  running bdist_wheel\n",
      "  running build\n",
      "  running build_py\n",
      "  creating build\n",
      "  creating build/lib.linux-x86_64-3.6\n",
      "  creating build/lib.linux-x86_64-3.6/sndfile\n",
      "  copying sndfile/build.py -> build/lib.linux-x86_64-3.6/sndfile\n",
      "  copying sndfile/io.py -> build/lib.linux-x86_64-3.6/sndfile\n",
      "  copying sndfile/__init__.py -> build/lib.linux-x86_64-3.6/sndfile\n",
      "  copying sndfile/formats.py -> build/lib.linux-x86_64-3.6/sndfile\n",
      "  copying sndfile/vio.py -> build/lib.linux-x86_64-3.6/sndfile\n",
      "  running build_ext\n",
      "  generating cffi module 'build/temp.linux-x86_64-3.6/sndfile._sndfile.c'\n",
      "  creating build/temp.linux-x86_64-3.6\n",
      "  building 'sndfile._sndfile' extension\n",
      "  creating build/temp.linux-x86_64-3.6/build\n",
      "  creating build/temp.linux-x86_64-3.6/build/temp.linux-x86_64-3.6\n",
      "  /home/ec2-user/anaconda3/envs/pytorch_p36/bin/x86_64-conda-linux-gnu-cc -DNDEBUG -fwrapv -O2 -Wall -Wstrict-prototypes -march=nocona -mtune=haswell -ftree-vectorize -fPIC -fstack-protector-strong -fno-plt -O2 -ffunction-sections -pipe -isystem /home/ec2-user/anaconda3/envs/pytorch_p36/include -DNDEBUG -D_FORTIFY_SOURCE=2 -O2 -isystem /home/ec2-user/anaconda3/envs/pytorch_p36/include -fPIC -I/home/ec2-user/anaconda3/envs/pytorch_p36/include/python3.6m -c build/temp.linux-x86_64-3.6/sndfile._sndfile.c -o build/temp.linux-x86_64-3.6/build/temp.linux-x86_64-3.6/sndfile._sndfile.o\n",
      "  build/temp.linux-x86_64-3.6/sndfile._sndfile.c:571:10: fatal error: sndfile.h: No such file or directory\n",
      "    571 | #include <sndfile.h>\n",
      "        |          ^~~~~~~~~~~\n",
      "  compilation terminated.\n",
      "  error: command '/home/ec2-user/anaconda3/envs/pytorch_p36/bin/x86_64-conda-linux-gnu-cc' failed with exit status 1\n",
      "  ----------------------------------------\u001b[0m\n",
      "\u001b[31m  ERROR: Failed building wheel for sndfile\u001b[0m\n",
      "\u001b[?25h  Running setup.py clean for sndfile\n",
      "Failed to build sndfile\n",
      "Installing collected packages: sndfile\n",
      "    Running setup.py install for sndfile ... \u001b[?25lerror\n",
      "\u001b[31m    ERROR: Command errored out with exit status 1:\n",
      "     command: /home/ec2-user/anaconda3/envs/pytorch_p36/bin/python3.6 -u -c 'import sys, setuptools, tokenize; sys.argv[0] = '\"'\"'/tmp/pip-install-keg9a96w/sndfile_b09d70f9cea64c94ab71897ea65a9053/setup.py'\"'\"'; __file__='\"'\"'/tmp/pip-install-keg9a96w/sndfile_b09d70f9cea64c94ab71897ea65a9053/setup.py'\"'\"';f=getattr(tokenize, '\"'\"'open'\"'\"', open)(__file__);code=f.read().replace('\"'\"'\\r\\n'\"'\"', '\"'\"'\\n'\"'\"');f.close();exec(compile(code, __file__, '\"'\"'exec'\"'\"'))' install --record /tmp/pip-record-xar80zo6/install-record.txt --single-version-externally-managed --compile --install-headers /home/ec2-user/anaconda3/envs/pytorch_p36/include/python3.6m/sndfile\n",
      "         cwd: /tmp/pip-install-keg9a96w/sndfile_b09d70f9cea64c94ab71897ea65a9053/\n",
      "    Complete output (23 lines):\n",
      "    running install\n",
      "    running build\n",
      "    running build_py\n",
      "    creating build\n",
      "    creating build/lib.linux-x86_64-3.6\n",
      "    creating build/lib.linux-x86_64-3.6/sndfile\n",
      "    copying sndfile/build.py -> build/lib.linux-x86_64-3.6/sndfile\n",
      "    copying sndfile/io.py -> build/lib.linux-x86_64-3.6/sndfile\n",
      "    copying sndfile/__init__.py -> build/lib.linux-x86_64-3.6/sndfile\n",
      "    copying sndfile/formats.py -> build/lib.linux-x86_64-3.6/sndfile\n",
      "    copying sndfile/vio.py -> build/lib.linux-x86_64-3.6/sndfile\n",
      "    running build_ext\n",
      "    generating cffi module 'build/temp.linux-x86_64-3.6/sndfile._sndfile.c'\n",
      "    creating build/temp.linux-x86_64-3.6\n",
      "    building 'sndfile._sndfile' extension\n",
      "    creating build/temp.linux-x86_64-3.6/build\n",
      "    creating build/temp.linux-x86_64-3.6/build/temp.linux-x86_64-3.6\n",
      "    /home/ec2-user/anaconda3/envs/pytorch_p36/bin/x86_64-conda-linux-gnu-cc -DNDEBUG -fwrapv -O2 -Wall -Wstrict-prototypes -march=nocona -mtune=haswell -ftree-vectorize -fPIC -fstack-protector-strong -fno-plt -O2 -ffunction-sections -pipe -isystem /home/ec2-user/anaconda3/envs/pytorch_p36/include -DNDEBUG -D_FORTIFY_SOURCE=2 -O2 -isystem /home/ec2-user/anaconda3/envs/pytorch_p36/include -fPIC -I/home/ec2-user/anaconda3/envs/pytorch_p36/include/python3.6m -c build/temp.linux-x86_64-3.6/sndfile._sndfile.c -o build/temp.linux-x86_64-3.6/build/temp.linux-x86_64-3.6/sndfile._sndfile.o\n",
      "    build/temp.linux-x86_64-3.6/sndfile._sndfile.c:571:10: fatal error: sndfile.h: No such file or directory\n",
      "      571 | #include <sndfile.h>\n",
      "          |          ^~~~~~~~~~~\n",
      "    compilation terminated.\n",
      "    error: command '/home/ec2-user/anaconda3/envs/pytorch_p36/bin/x86_64-conda-linux-gnu-cc' failed with exit status 1\n",
      "    ----------------------------------------\u001b[0m\n",
      "\u001b[31mERROR: Command errored out with exit status 1: /home/ec2-user/anaconda3/envs/pytorch_p36/bin/python3.6 -u -c 'import sys, setuptools, tokenize; sys.argv[0] = '\"'\"'/tmp/pip-install-keg9a96w/sndfile_b09d70f9cea64c94ab71897ea65a9053/setup.py'\"'\"'; __file__='\"'\"'/tmp/pip-install-keg9a96w/sndfile_b09d70f9cea64c94ab71897ea65a9053/setup.py'\"'\"';f=getattr(tokenize, '\"'\"'open'\"'\"', open)(__file__);code=f.read().replace('\"'\"'\\r\\n'\"'\"', '\"'\"'\\n'\"'\"');f.close();exec(compile(code, __file__, '\"'\"'exec'\"'\"'))' install --record /tmp/pip-record-xar80zo6/install-record.txt --single-version-externally-managed --compile --install-headers /home/ec2-user/anaconda3/envs/pytorch_p36/include/python3.6m/sndfile Check the logs for full command output.\u001b[0m\n",
      "\u001b[?25h"
     ]
    }
   ],
   "source": [
    "!pip install sndfile"
   ]
  },
  {
   "cell_type": "code",
   "execution_count": null,
   "metadata": {},
   "outputs": [],
   "source": [
    "# For managing audio file\n",
    "import librosa\n"
   ]
  },
  {
   "cell_type": "code",
   "execution_count": 66,
   "metadata": {},
   "outputs": [],
   "source": [
    "# Loading the audio file\n",
    "\n",
    "audio, rate = librosa.load(\"taken_clip.wav\", sr = 16000)"
   ]
  },
  {
   "cell_type": "code",
   "execution_count": 67,
   "metadata": {},
   "outputs": [
    {
     "data": {
      "text/plain": [
       "array([0., 0., 0., ..., 0., 0., 0.], dtype=float32)"
      ]
     },
     "execution_count": 67,
     "metadata": {},
     "output_type": "execute_result"
    }
   ],
   "source": [
    "# printing audio \n",
    "audio"
   ]
  },
  {
   "cell_type": "code",
   "execution_count": 68,
   "metadata": {},
   "outputs": [
    {
     "data": {
      "text/plain": [
       "16000"
      ]
     },
     "execution_count": 68,
     "metadata": {},
     "output_type": "execute_result"
    }
   ],
   "source": [
    "# printing rate\n",
    "\n",
    "rate"
   ]
  }
 ],
 "metadata": {
  "kernelspec": {
   "display_name": "conda_pytorch_p36",
   "language": "python",
   "name": "conda_pytorch_p36"
  },
  "language_info": {
   "codemirror_mode": {
    "name": "ipython",
    "version": 3
   },
   "file_extension": ".py",
   "mimetype": "text/x-python",
   "name": "python",
   "nbconvert_exporter": "python",
   "pygments_lexer": "ipython3",
   "version": "3.6.13"
  }
 },
 "nbformat": 4,
 "nbformat_minor": 4
}
